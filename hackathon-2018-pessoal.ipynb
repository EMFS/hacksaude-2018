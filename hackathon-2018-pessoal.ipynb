{
 "cells": [
  {
   "cell_type": "code",
   "execution_count": 1,
   "metadata": {},
   "outputs": [],
   "source": [
    "import pandas as pd\n",
    "import matplotlib.pyplot as plt"
   ]
  },
  {
   "cell_type": "code",
   "execution_count": 2,
   "metadata": {},
   "outputs": [],
   "source": [
    "df = pd.read_csv('data/forca-de-trabalho---17-04-18-csv.csv',encoding='latin1',delimiter = ';')\n",
    "\n"
   ]
  },
  {
   "cell_type": "code",
   "execution_count": 3,
   "metadata": {},
   "outputs": [
    {
     "data": {
      "text/html": [
       "<div>\n",
       "<style scoped>\n",
       "    .dataframe tbody tr th:only-of-type {\n",
       "        vertical-align: middle;\n",
       "    }\n",
       "\n",
       "    .dataframe tbody tr th {\n",
       "        vertical-align: top;\n",
       "    }\n",
       "\n",
       "    .dataframe thead th {\n",
       "        text-align: right;\n",
       "    }\n",
       "</style>\n",
       "<table border=\"1\" class=\"dataframe\">\n",
       "  <thead>\n",
       "    <tr style=\"text-align: right;\">\n",
       "      <th></th>\n",
       "      <th>MATRICULA</th>\n",
       "      <th>NOME DO SERVIDOR</th>\n",
       "      <th>CPF</th>\n",
       "      <th>DATA NASCIMENTO</th>\n",
       "      <th>DESC CARGO</th>\n",
       "      <th>CARREIRA</th>\n",
       "      <th>UA/LOTACAO</th>\n",
       "      <th>REGIONAL</th>\n",
       "      <th>DESCRICAO LOTACAO</th>\n",
       "      <th>CODIGO DA LOTACAO</th>\n",
       "      <th>...</th>\n",
       "      <th>STATUS</th>\n",
       "      <th>DESC DA FUNCAO</th>\n",
       "      <th>DT. ADMISSAO</th>\n",
       "      <th>DESC MOTIVO DE AFASTAMENTO</th>\n",
       "      <th>DT AFAST</th>\n",
       "      <th>DESC DO MOTIVO DE DESLIGAMENTO</th>\n",
       "      <th>DT DESL</th>\n",
       "      <th>MOT APOS</th>\n",
       "      <th>DT APOS</th>\n",
       "      <th>SITUACAO FUNCIONAL</th>\n",
       "    </tr>\n",
       "  </thead>\n",
       "  <tbody>\n",
       "    <tr>\n",
       "      <th>0</th>\n",
       "      <td>1214322</td>\n",
       "      <td>EDUARDO &amp; MÔNICA</td>\n",
       "      <td>000.000.000-00</td>\n",
       "      <td>23/04/2018</td>\n",
       "      <td>TÉCNICO ADMINISTRATIVO</td>\n",
       "      <td>TÉCNICO EM SAÚDE</td>\n",
       "      <td>ADMC</td>\n",
       "      <td>ADMC - AFAST. DIVERSOS</td>\n",
       "      <td>ADMC - DRH DIVERSOS</td>\n",
       "      <td>10900000</td>\n",
       "      <td>...</td>\n",
       "      <td>3 - AFASTADO</td>\n",
       "      <td>NaN</td>\n",
       "      <td>05/08/1983</td>\n",
       "      <td>AFASTAMENTO PARA EXERCICIO DE MANDATO ELETIVO ...</td>\n",
       "      <td>01/01/2015</td>\n",
       "      <td>HISTORICO DE DESLIGAMENTO</td>\n",
       "      <td>NaN</td>\n",
       "      <td>0</td>\n",
       "      <td>NaN</td>\n",
       "      <td>7</td>\n",
       "    </tr>\n",
       "    <tr>\n",
       "      <th>1</th>\n",
       "      <td>1270060</td>\n",
       "      <td>ANTONIO AGAMENON TORRES VIANA</td>\n",
       "      <td>000.000.000-00</td>\n",
       "      <td>23/04/2018</td>\n",
       "      <td>TÉCNICO EM ENFERMAGEM</td>\n",
       "      <td>TÉCNICO EM SAÚDE</td>\n",
       "      <td>ADMC</td>\n",
       "      <td>ADMC - AFAST. DIVERSOS</td>\n",
       "      <td>ADMC - DRH DIVERSOS</td>\n",
       "      <td>10900000</td>\n",
       "      <td>...</td>\n",
       "      <td>3 - AFASTADO</td>\n",
       "      <td>NaN</td>\n",
       "      <td>07/11/1986</td>\n",
       "      <td>LICENCA DESEMPENHO MANDATO CLASSISTA - O1, ART...</td>\n",
       "      <td>26/04/2017</td>\n",
       "      <td>HISTORICO DE DESLIGAMENTO</td>\n",
       "      <td>NaN</td>\n",
       "      <td>0</td>\n",
       "      <td>NaN</td>\n",
       "      <td>7</td>\n",
       "    </tr>\n",
       "    <tr>\n",
       "      <th>2</th>\n",
       "      <td>1284541</td>\n",
       "      <td>ANTONIO GERALDO DA SILVA</td>\n",
       "      <td>000.000.000-00</td>\n",
       "      <td>23/04/2018</td>\n",
       "      <td>MEDICO - PSIQUIATRIA</td>\n",
       "      <td>MÉDICO</td>\n",
       "      <td>ADMC</td>\n",
       "      <td>ADMC - AFAST. DIVERSOS</td>\n",
       "      <td>ADMC - DRH DIVERSOS</td>\n",
       "      <td>10900000</td>\n",
       "      <td>...</td>\n",
       "      <td>3 - AFASTADO</td>\n",
       "      <td>NaN</td>\n",
       "      <td>26/08/1988</td>\n",
       "      <td>LICENCA MANDATO CLASSISTA - ART.145, PAR.2, LC...</td>\n",
       "      <td>05/03/2015</td>\n",
       "      <td>HISTORICO DE DESLIGAMENTO</td>\n",
       "      <td>NaN</td>\n",
       "      <td>0</td>\n",
       "      <td>NaN</td>\n",
       "      <td>7</td>\n",
       "    </tr>\n",
       "    <tr>\n",
       "      <th>3</th>\n",
       "      <td>1303724</td>\n",
       "      <td>MARCOS GUTEMBERG FIALHO DA COSTA</td>\n",
       "      <td>000.000.000-00</td>\n",
       "      <td>23/04/2018</td>\n",
       "      <td>MEDICO - GINECOLOGIA E OBSTETRÍCIA</td>\n",
       "      <td>MÉDICO</td>\n",
       "      <td>ADMC</td>\n",
       "      <td>ADMC - AFAST. DIVERSOS</td>\n",
       "      <td>ADMC - DRH DIVERSOS</td>\n",
       "      <td>10900000</td>\n",
       "      <td>...</td>\n",
       "      <td>3 - AFASTADO</td>\n",
       "      <td>NaN</td>\n",
       "      <td>02/01/1991</td>\n",
       "      <td>LICENCA DESEMPENHO MANDATO CLASSISTA - O1, ART...</td>\n",
       "      <td>06/10/2014</td>\n",
       "      <td>HISTORICO DE DESLIGAMENTO</td>\n",
       "      <td>NaN</td>\n",
       "      <td>0</td>\n",
       "      <td>NaN</td>\n",
       "      <td>7</td>\n",
       "    </tr>\n",
       "    <tr>\n",
       "      <th>4</th>\n",
       "      <td>0132487X</td>\n",
       "      <td>CARLOS FERNANDO DA SILVA</td>\n",
       "      <td>000.000.000-00</td>\n",
       "      <td>23/04/2018</td>\n",
       "      <td>MEDICO - GINECOLOGIA E OBSTETRÍCIA</td>\n",
       "      <td>MÉDICO</td>\n",
       "      <td>ADMC</td>\n",
       "      <td>ADMC - AFAST. DIVERSOS</td>\n",
       "      <td>ADMC - DRH DIVERSOS</td>\n",
       "      <td>10900000</td>\n",
       "      <td>...</td>\n",
       "      <td>3 - AFASTADO</td>\n",
       "      <td>NaN</td>\n",
       "      <td>08/02/1993</td>\n",
       "      <td>LICENCA DESEMPENHO MANDATO CLASSISTA - O1, ART...</td>\n",
       "      <td>17/08/2012</td>\n",
       "      <td>HISTORICO DE DESLIGAMENTO</td>\n",
       "      <td>NaN</td>\n",
       "      <td>0</td>\n",
       "      <td>NaN</td>\n",
       "      <td>7</td>\n",
       "    </tr>\n",
       "    <tr>\n",
       "      <th>5</th>\n",
       "      <td>1324934</td>\n",
       "      <td>CELIO RIBEIRO JUNIOR</td>\n",
       "      <td>000.000.000-00</td>\n",
       "      <td>23/04/2018</td>\n",
       "      <td>MEDICO - GINECOLOGIA E OBSTETRÍCIA</td>\n",
       "      <td>MÉDICO</td>\n",
       "      <td>ADMC</td>\n",
       "      <td>ADMC - AFAST. DIVERSOS</td>\n",
       "      <td>ADMC - DRH DIVERSOS</td>\n",
       "      <td>10900000</td>\n",
       "      <td>...</td>\n",
       "      <td>3 - AFASTADO</td>\n",
       "      <td>NaN</td>\n",
       "      <td>01/02/1993</td>\n",
       "      <td>AFAST. EXERCICIO DE MANDATO ELETIVO C/REMUN. A...</td>\n",
       "      <td>01/01/2017</td>\n",
       "      <td>HISTORICO DE DESLIGAMENTO</td>\n",
       "      <td>NaN</td>\n",
       "      <td>0</td>\n",
       "      <td>NaN</td>\n",
       "      <td>7</td>\n",
       "    </tr>\n",
       "  </tbody>\n",
       "</table>\n",
       "<p>6 rows × 23 columns</p>\n",
       "</div>"
      ],
      "text/plain": [
       "  MATRICULA                  NOME DO SERVIDOR             CPF DATA NASCIMENTO  \\\n",
       "0   1214322                  EDUARDO & MÔNICA  000.000.000-00      23/04/2018   \n",
       "1   1270060     ANTONIO AGAMENON TORRES VIANA  000.000.000-00      23/04/2018   \n",
       "2   1284541          ANTONIO GERALDO DA SILVA  000.000.000-00      23/04/2018   \n",
       "3   1303724  MARCOS GUTEMBERG FIALHO DA COSTA  000.000.000-00      23/04/2018   \n",
       "4  0132487X          CARLOS FERNANDO DA SILVA  000.000.000-00      23/04/2018   \n",
       "5   1324934              CELIO RIBEIRO JUNIOR  000.000.000-00      23/04/2018   \n",
       "\n",
       "                            DESC CARGO          CARREIRA UA/LOTACAO  \\\n",
       "0               TÉCNICO ADMINISTRATIVO  TÉCNICO EM SAÚDE       ADMC   \n",
       "1                TÉCNICO EM ENFERMAGEM  TÉCNICO EM SAÚDE       ADMC   \n",
       "2                MEDICO - PSIQUIATRIA             MÉDICO       ADMC   \n",
       "3  MEDICO - GINECOLOGIA E OBSTETRÍCIA             MÉDICO       ADMC   \n",
       "4  MEDICO - GINECOLOGIA E OBSTETRÍCIA             MÉDICO       ADMC   \n",
       "5  MEDICO - GINECOLOGIA E OBSTETRÍCIA             MÉDICO       ADMC   \n",
       "\n",
       "                 REGIONAL    DESCRICAO LOTACAO CODIGO DA LOTACAO  \\\n",
       "0  ADMC - AFAST. DIVERSOS  ADMC - DRH DIVERSOS          10900000   \n",
       "1  ADMC - AFAST. DIVERSOS  ADMC - DRH DIVERSOS          10900000   \n",
       "2  ADMC - AFAST. DIVERSOS  ADMC - DRH DIVERSOS          10900000   \n",
       "3  ADMC - AFAST. DIVERSOS  ADMC - DRH DIVERSOS          10900000   \n",
       "4  ADMC - AFAST. DIVERSOS  ADMC - DRH DIVERSOS          10900000   \n",
       "5  ADMC - AFAST. DIVERSOS  ADMC - DRH DIVERSOS          10900000   \n",
       "\n",
       "          ...                STATUS DESC DA FUNCAO DT. ADMISSAO  \\\n",
       "0         ...          3 - AFASTADO            NaN   05/08/1983   \n",
       "1         ...          3 - AFASTADO            NaN   07/11/1986   \n",
       "2         ...          3 - AFASTADO            NaN   26/08/1988   \n",
       "3         ...          3 - AFASTADO            NaN   02/01/1991   \n",
       "4         ...          3 - AFASTADO            NaN   08/02/1993   \n",
       "5         ...          3 - AFASTADO            NaN   01/02/1993   \n",
       "\n",
       "                          DESC MOTIVO DE AFASTAMENTO    DT AFAST  \\\n",
       "0  AFASTAMENTO PARA EXERCICIO DE MANDATO ELETIVO ...  01/01/2015   \n",
       "1  LICENCA DESEMPENHO MANDATO CLASSISTA - O1, ART...  26/04/2017   \n",
       "2  LICENCA MANDATO CLASSISTA - ART.145, PAR.2, LC...  05/03/2015   \n",
       "3  LICENCA DESEMPENHO MANDATO CLASSISTA - O1, ART...  06/10/2014   \n",
       "4  LICENCA DESEMPENHO MANDATO CLASSISTA - O1, ART...  17/08/2012   \n",
       "5  AFAST. EXERCICIO DE MANDATO ELETIVO C/REMUN. A...  01/01/2017   \n",
       "\n",
       "  DESC DO MOTIVO DE DESLIGAMENTO DT DESL MOT APOS DT APOS  SITUACAO FUNCIONAL  \n",
       "0      HISTORICO DE DESLIGAMENTO     NaN        0     NaN                   7  \n",
       "1      HISTORICO DE DESLIGAMENTO     NaN        0     NaN                   7  \n",
       "2      HISTORICO DE DESLIGAMENTO     NaN        0     NaN                   7  \n",
       "3      HISTORICO DE DESLIGAMENTO     NaN        0     NaN                   7  \n",
       "4      HISTORICO DE DESLIGAMENTO     NaN        0     NaN                   7  \n",
       "5      HISTORICO DE DESLIGAMENTO     NaN        0     NaN                   7  \n",
       "\n",
       "[6 rows x 23 columns]"
      ]
     },
     "execution_count": 3,
     "metadata": {},
     "output_type": "execute_result"
    }
   ],
   "source": [
    "df.head(6)"
   ]
  },
  {
   "cell_type": "code",
   "execution_count": 4,
   "metadata": {},
   "outputs": [
    {
     "data": {
      "text/plain": [
       "(34685, 23)"
      ]
     },
     "execution_count": 4,
     "metadata": {},
     "output_type": "execute_result"
    }
   ],
   "source": [
    "df.shape"
   ]
  },
  {
   "cell_type": "code",
   "execution_count": 5,
   "metadata": {},
   "outputs": [
    {
     "data": {
      "text/plain": [
       "Index(['MATRICULA', 'NOME DO SERVIDOR', 'CPF', 'DATA NASCIMENTO', 'DESC CARGO',\n",
       "       'CARREIRA', 'UA/LOTACAO', 'REGIONAL', 'DESCRICAO LOTACAO',\n",
       "       'CODIGO DA LOTACAO', 'C.H 1', 'DESC SEXO', 'DESC SIT FUNC', 'STATUS',\n",
       "       'DESC DA FUNCAO', 'DT. ADMISSAO', 'DESC MOTIVO DE AFASTAMENTO',\n",
       "       'DT AFAST', 'DESC DO MOTIVO DE DESLIGAMENTO', 'DT DESL', 'MOT APOS',\n",
       "       'DT APOS', 'SITUACAO FUNCIONAL'],\n",
       "      dtype='object')"
      ]
     },
     "execution_count": 5,
     "metadata": {},
     "output_type": "execute_result"
    }
   ],
   "source": [
    "df.columns"
   ]
  },
  {
   "cell_type": "markdown",
   "metadata": {},
   "source": [
    "### Total de servidores"
   ]
  },
  {
   "cell_type": "code",
   "execution_count": 6,
   "metadata": {},
   "outputs": [
    {
     "data": {
      "text/plain": [
       "34685"
      ]
     },
     "execution_count": 6,
     "metadata": {},
     "output_type": "execute_result"
    }
   ],
   "source": [
    "df.shape[0]"
   ]
  },
  {
   "cell_type": "markdown",
   "metadata": {},
   "source": [
    "## Contagem por Carreira"
   ]
  },
  {
   "cell_type": "code",
   "execution_count": 7,
   "metadata": {},
   "outputs": [
    {
     "data": {
      "text/plain": [
       "CARREIRA\n",
       "TÉCNICO EM SAÚDE                           16165\n",
       "MÉDICO                                      5185\n",
       "ENFERMEIRO                                  3328\n",
       "ESPECIALISTA EM SAÚDE                       2721\n",
       "AUXILIAR DE SAÚDE                           2018\n",
       "RESIDENTE                                   1475\n",
       "EMPREGO COMUNITÁRIO DO DISTRITO FEDERAL     1422\n",
       "OUTRAS                                      1245\n",
       "PPGG                                         587\n",
       "CIRURGIÃO-DENTISTA                           518\n",
       "CONSELHEIRO DE SAUDE                          19\n",
       "#N/D                                           2\n",
       "Name: MATRICULA, dtype: int64"
      ]
     },
     "execution_count": 7,
     "metadata": {},
     "output_type": "execute_result"
    }
   ],
   "source": [
    "grouped = df.groupby('CARREIRA')\n",
    "grouped['MATRICULA'].count().sort_values(ascending=False)"
   ]
  },
  {
   "cell_type": "markdown",
   "metadata": {},
   "source": [
    "#### não tem os 8 mil auxiliares de enfermagem do dataset de distribuiçao de pessoal\n",
    "¯\\\\_(ツ)_/¯\n",
    "[notebook da distribuição de pessoal](https://github.com/chris-redfield/hacksaude-2018/blob/master/ditribuicao-profissionais.ipynb)\n",
    "\n",
    "Talvez sejam esses Técnicos em Saúde ?"
   ]
  },
  {
   "cell_type": "code",
   "execution_count": 8,
   "metadata": {},
   "outputs": [
    {
     "data": {
      "text/plain": [
       "<matplotlib.axes._subplots.AxesSubplot at 0x7f68cd90ec88>"
      ]
     },
     "execution_count": 8,
     "metadata": {},
     "output_type": "execute_result"
    },
    {
     "data": {
      "image/png": "[encoded data removed]",
      "text/plain": [
       "<matplotlib.figure.Figure at 0x7f68fd85d908>"
      ]
     },
     "metadata": {},
     "output_type": "display_data"
    }
   ],
   "source": [
    "grouped['MATRICULA'].count().sort_values(ascending=False).plot.bar()"
   ]
  },
  {
   "cell_type": "markdown",
   "metadata": {},
   "source": [
    "## Contagem por estado"
   ]
  },
  {
   "cell_type": "code",
   "execution_count": 9,
   "metadata": {},
   "outputs": [
    {
     "data": {
      "text/plain": [
       "STATUS\n",
       "2 - NORMAL             31779\n",
       "3 - AFASTADO            1248\n",
       "7 - REQUISITADO         1065\n",
       "1 - INCLUIDO NO MES      314\n",
       "8 - CEDIDO               279\n",
       "Name: MATRICULA, dtype: int64"
      ]
     },
     "execution_count": 9,
     "metadata": {},
     "output_type": "execute_result"
    }
   ],
   "source": [
    "grouped = df.groupby('STATUS')\n",
    "grouped['MATRICULA'].count().sort_values(ascending=False)"
   ]
  },
  {
   "cell_type": "code",
   "execution_count": 10,
   "metadata": {},
   "outputs": [
    {
     "data": {
      "text/plain": [
       "<matplotlib.axes._subplots.AxesSubplot at 0x7f68c4fb3d68>"
      ]
     },
     "execution_count": 10,
     "metadata": {},
     "output_type": "execute_result"
    },
    {
     "data": {
      "image/png": "[encoded data removed]",
      "text/plain": [
       "<matplotlib.figure.Figure at 0x7f68cd8dc6a0>"
      ]
     },
     "metadata": {},
     "output_type": "display_data"
    }
   ],
   "source": [
    "grouped['MATRICULA'].count().sort_values(ascending=False).plot.bar()"
   ]
  },
  {
   "cell_type": "markdown",
   "metadata": {},
   "source": [
    "## Percentual de servidores afastados"
   ]
  },
  {
   "cell_type": "code",
   "execution_count": 11,
   "metadata": {},
   "outputs": [
    {
     "data": {
      "text/plain": [
       "3.598097160155687"
      ]
     },
     "execution_count": 11,
     "metadata": {},
     "output_type": "execute_result"
    }
   ],
   "source": [
    "df[df['STATUS']=='3 - AFASTADO'].count()['MATRICULA'] * 100 / df.shape[0]"
   ]
  },
  {
   "cell_type": "markdown",
   "metadata": {},
   "source": [
    "poucos, então esse não é o problema da secretaria ;p"
   ]
  },
  {
   "cell_type": "markdown",
   "metadata": {},
   "source": [
    "## Contagem por unidade de lotação"
   ]
  },
  {
   "cell_type": "code",
   "execution_count": 12,
   "metadata": {},
   "outputs": [
    {
     "data": {
      "text/plain": [
       "UA/LOTACAO\n",
       "SUPERINTENDENCIA DA REGIAO DE SAUDE SUDOESTE        5280\n",
       "SUPERINTENDENCIA DA REGIAO DE SAUDE SUL             4687\n",
       "ADMC                                                4239\n",
       "SUPERINTENDENCIA DA REGIAO DE SAUDE CENTRO-SUL      3758\n",
       "SUPERINTENDENCIA DA REGIAO DE SAUDE OESTE           3581\n",
       "SUPERINTENDENCIA DA REGIAO DE SAUDE NORTE           3452\n",
       "HBDF                                                3425\n",
       "SUPERINTENDENCIA DA REGIAO DE SAUDE CENTRO-NORTE    2369\n",
       "SUPERINTENDENCIA DA REGIAO DE SAUDE LESTE           2176\n",
       "COMPLEXO REGULADOR EM SAUDE DO DISTRITO FEDERAL     1088\n",
       "HOSPITAL DE APOIO                                    315\n",
       "HSVP                                                 309\n",
       "DRS - PARANOA                                          2\n",
       "DRS - SOBRADINHO                                       1\n",
       "DRS - RECANTO DAS EMAS                                 1\n",
       "DRS - ASA NORTE                                        1\n",
       "COMPP                                                  1\n",
       "Name: MATRICULA, dtype: int64"
      ]
     },
     "execution_count": 12,
     "metadata": {},
     "output_type": "execute_result"
    }
   ],
   "source": [
    "grouped = df.groupby('UA/LOTACAO')\n",
    "grouped['MATRICULA'].count().sort_values(ascending=False)"
   ]
  },
  {
   "cell_type": "code",
   "execution_count": 13,
   "metadata": {},
   "outputs": [
    {
     "data": {
      "text/plain": [
       "<matplotlib.axes._subplots.AxesSubplot at 0x7f68c4f622e8>"
      ]
     },
     "execution_count": 13,
     "metadata": {},
     "output_type": "execute_result"
    },
    {
     "data": {
      "image/png": "[encoded data removed]",
      "text/plain": [
       "<matplotlib.figure.Figure at 0x7f68c4f2e7f0>"
      ]
     },
     "metadata": {},
     "output_type": "display_data"
    }
   ],
   "source": [
    "grouped['MATRICULA'].count().sort_values(ascending=False)[:10].plot.bar()"
   ]
  },
  {
   "cell_type": "markdown",
   "metadata": {},
   "source": [
    "#### dados não batem 100% com o dataset de distribuição de pessoal, mas estão próximos ^^\n",
    "¯\\\\_(ツ)_/¯\n",
    "[notebook da distribuição de pessoal](https://github.com/chris-redfield/hacksaude-2018/blob/master/ditribuicao-profissionais.ipynb#Quantidade-de-servidores-por-unidade)\n",
    "\n"
   ]
  },
  {
   "cell_type": "code",
   "execution_count": null,
   "metadata": {},
   "outputs": [],
   "source": []
  }
 ],
 "metadata": {
  "kernelspec": {
   "display_name": "Python 3",
   "language": "python",
   "name": "python3"
  },
  "language_info": {
   "codemirror_mode": {
    "name": "ipython",
    "version": 3
   },
   "file_extension": ".py",
   "mimetype": "text/x-python",
   "name": "python",
   "nbconvert_exporter": "python",
   "pygments_lexer": "ipython3",
   "version": "3.6.4"
  }
 },
 "nbformat": 4,
 "nbformat_minor": 2
}
