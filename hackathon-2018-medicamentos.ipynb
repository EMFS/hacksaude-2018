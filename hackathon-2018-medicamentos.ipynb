{
 "cells": [
  {
   "cell_type": "code",
   "execution_count": 1,
   "metadata": {},
   "outputs": [],
   "source": [
    "import pandas as pd"
   ]
  },
  {
   "cell_type": "code",
   "execution_count": 2,
   "metadata": {},
   "outputs": [],
   "source": [
    "df = pd.read_csv('posicao-de-estoque-csv.csv',encoding='latin1',delimiter = ';')\n"
   ]
  },
  {
   "cell_type": "code",
   "execution_count": 3,
   "metadata": {},
   "outputs": [
    {
     "data": {
      "text/html": [
       "<div>\n",
       "<style scoped>\n",
       "    .dataframe tbody tr th:only-of-type {\n",
       "        vertical-align: middle;\n",
       "    }\n",
       "\n",
       "    .dataframe tbody tr th {\n",
       "        vertical-align: top;\n",
       "    }\n",
       "\n",
       "    .dataframe thead th {\n",
       "        text-align: right;\n",
       "    }\n",
       "</style>\n",
       "<table border=\"1\" class=\"dataframe\">\n",
       "  <thead>\n",
       "    <tr style=\"text-align: right;\">\n",
       "      <th></th>\n",
       "      <th>Produto</th>\n",
       "      <th>Qtd Estoque Atual</th>\n",
       "      <th>Unnamed: 2</th>\n",
       "      <th>Unnamed: 3</th>\n",
       "      <th>Unnamed: 4</th>\n",
       "    </tr>\n",
       "  </thead>\n",
       "  <tbody>\n",
       "    <tr>\n",
       "      <th>0</th>\n",
       "      <td>ÁCIDO URSODESOXICÓLICO 300 MG COMPRIMIDO ELENC...</td>\n",
       "      <td>2.680</td>\n",
       "      <td>NaN</td>\n",
       "      <td>NaN</td>\n",
       "      <td>Legenda</td>\n",
       "    </tr>\n",
       "    <tr>\n",
       "      <th>1</th>\n",
       "      <td>ACITRETINA 10 MG CAP GRUPO 1.B</td>\n",
       "      <td>2.400</td>\n",
       "      <td>NaN</td>\n",
       "      <td>NaN</td>\n",
       "      <td>Elenco Estadual - Medicamento previsto apenas ...</td>\n",
       "    </tr>\n",
       "    <tr>\n",
       "      <th>2</th>\n",
       "      <td>ACITRETINA 25 MG CAP GRUPO 1.B</td>\n",
       "      <td>6.220</td>\n",
       "      <td>NaN</td>\n",
       "      <td>NaN</td>\n",
       "      <td>Grupo</td>\n",
       "    </tr>\n",
       "    <tr>\n",
       "      <th>3</th>\n",
       "      <td>ALFADORNASE 2,5 MG AMP GRUPO 1.B</td>\n",
       "      <td>1.044</td>\n",
       "      <td>NaN</td>\n",
       "      <td>NaN</td>\n",
       "      <td>1B - medicamento previsto pelo Ministério, adq...</td>\n",
       "    </tr>\n",
       "    <tr>\n",
       "      <th>4</th>\n",
       "      <td>AMANTADINA 100 MG COMP GRUPO 1.B</td>\n",
       "      <td>16.720</td>\n",
       "      <td>NaN</td>\n",
       "      <td>NaN</td>\n",
       "      <td>Grupo 2 - medicamento previsto pelo Ministério...</td>\n",
       "    </tr>\n",
       "    <tr>\n",
       "      <th>5</th>\n",
       "      <td>AMANTADINA 100 MG COMPRIMIDO ELENCO ESTADUAL</td>\n",
       "      <td>310</td>\n",
       "      <td>NaN</td>\n",
       "      <td>NaN</td>\n",
       "      <td>NaN</td>\n",
       "    </tr>\n",
       "    <tr>\n",
       "      <th>6</th>\n",
       "      <td>AMICACINA, SULFATO 50 MG/ML SOLUÇÃO INJETÁVEL ...</td>\n",
       "      <td>100</td>\n",
       "      <td>NaN</td>\n",
       "      <td>NaN</td>\n",
       "      <td>NaN</td>\n",
       "    </tr>\n",
       "    <tr>\n",
       "      <th>7</th>\n",
       "      <td>ANFOTERICINA B LIPOSSOMAL PÓ PARA SOLUÇÃO INJE...</td>\n",
       "      <td>142</td>\n",
       "      <td>NaN</td>\n",
       "      <td>NaN</td>\n",
       "      <td>NaN</td>\n",
       "    </tr>\n",
       "    <tr>\n",
       "      <th>8</th>\n",
       "      <td>ATORVASTATINA 10 MG COMP GRUPO 2</td>\n",
       "      <td>37.520</td>\n",
       "      <td>NaN</td>\n",
       "      <td>NaN</td>\n",
       "      <td>NaN</td>\n",
       "    </tr>\n",
       "    <tr>\n",
       "      <th>9</th>\n",
       "      <td>ATORVASTATINA 20 MG COMP GRUPO 2</td>\n",
       "      <td>590</td>\n",
       "      <td>NaN</td>\n",
       "      <td>NaN</td>\n",
       "      <td>NaN</td>\n",
       "    </tr>\n",
       "  </tbody>\n",
       "</table>\n",
       "</div>"
      ],
      "text/plain": [
       "                                             Produto Qtd Estoque Atual  \\\n",
       "0  ÁCIDO URSODESOXICÓLICO 300 MG COMPRIMIDO ELENC...             2.680   \n",
       "1                    ACITRETINA 10 MG CAP GRUPO 1.B              2.400   \n",
       "2                    ACITRETINA 25 MG CAP GRUPO 1.B              6.220   \n",
       "3                  ALFADORNASE 2,5 MG AMP GRUPO 1.B              1.044   \n",
       "4                  AMANTADINA 100 MG COMP GRUPO 1.B             16.720   \n",
       "5      AMANTADINA 100 MG COMPRIMIDO ELENCO ESTADUAL                310   \n",
       "6  AMICACINA, SULFATO 50 MG/ML SOLUÇÃO INJETÁVEL ...               100   \n",
       "7  ANFOTERICINA B LIPOSSOMAL PÓ PARA SOLUÇÃO INJE...               142   \n",
       "8                  ATORVASTATINA 10 MG COMP GRUPO 2             37.520   \n",
       "9                  ATORVASTATINA 20 MG COMP GRUPO 2                590   \n",
       "\n",
       "   Unnamed: 2  Unnamed: 3                                         Unnamed: 4  \n",
       "0         NaN         NaN                                            Legenda  \n",
       "1         NaN         NaN  Elenco Estadual - Medicamento previsto apenas ...  \n",
       "2         NaN         NaN                                              Grupo  \n",
       "3         NaN         NaN  1B - medicamento previsto pelo Ministério, adq...  \n",
       "4         NaN         NaN  Grupo 2 - medicamento previsto pelo Ministério...  \n",
       "5         NaN         NaN                                                NaN  \n",
       "6         NaN         NaN                                                NaN  \n",
       "7         NaN         NaN                                                NaN  \n",
       "8         NaN         NaN                                                NaN  \n",
       "9         NaN         NaN                                                NaN  "
      ]
     },
     "execution_count": 3,
     "metadata": {},
     "output_type": "execute_result"
    }
   ],
   "source": [
    "df.head(10)"
   ]
  },
  {
   "cell_type": "code",
   "execution_count": 4,
   "metadata": {},
   "outputs": [
    {
     "data": {
      "text/plain": [
       "(131, 5)"
      ]
     },
     "execution_count": 4,
     "metadata": {},
     "output_type": "execute_result"
    }
   ],
   "source": [
    "df.shape"
   ]
  },
  {
   "cell_type": "code",
   "execution_count": 5,
   "metadata": {},
   "outputs": [
    {
     "data": {
      "text/plain": [
       "Index(['Produto', 'Qtd Estoque Atual', 'Unnamed: 2', 'Unnamed: 3',\n",
       "       'Unnamed: 4'],\n",
       "      dtype='object')"
      ]
     },
     "execution_count": 5,
     "metadata": {},
     "output_type": "execute_result"
    }
   ],
   "source": [
    "df.columns"
   ]
  },
  {
   "cell_type": "markdown",
   "metadata": {},
   "source": [
    "### Removendo colunas desnecessárias"
   ]
  },
  {
   "cell_type": "code",
   "execution_count": 6,
   "metadata": {},
   "outputs": [],
   "source": [
    "df = df.drop(columns=['Unnamed: 2', 'Unnamed: 3','Unnamed: 4'])"
   ]
  },
  {
   "cell_type": "code",
   "execution_count": 7,
   "metadata": {},
   "outputs": [
    {
     "data": {
      "text/html": [
       "<div>\n",
       "<style scoped>\n",
       "    .dataframe tbody tr th:only-of-type {\n",
       "        vertical-align: middle;\n",
       "    }\n",
       "\n",
       "    .dataframe tbody tr th {\n",
       "        vertical-align: top;\n",
       "    }\n",
       "\n",
       "    .dataframe thead th {\n",
       "        text-align: right;\n",
       "    }\n",
       "</style>\n",
       "<table border=\"1\" class=\"dataframe\">\n",
       "  <thead>\n",
       "    <tr style=\"text-align: right;\">\n",
       "      <th></th>\n",
       "      <th>Produto</th>\n",
       "      <th>Qtd Estoque Atual</th>\n",
       "    </tr>\n",
       "  </thead>\n",
       "  <tbody>\n",
       "    <tr>\n",
       "      <th>125</th>\n",
       "      <td>TRAVOPROSTA 0,04 MG/ML SOL OFT (FR) 2,5 ML GRU...</td>\n",
       "      <td>512</td>\n",
       "    </tr>\n",
       "    <tr>\n",
       "      <th>126</th>\n",
       "      <td>TRIPTORRELINA 3,75 MG SUSP INJ (FR-AMP) GRUPO ...</td>\n",
       "      <td>138</td>\n",
       "    </tr>\n",
       "    <tr>\n",
       "      <th>127</th>\n",
       "      <td>VIGABATRINA 500 MG COMP GRUPO 2</td>\n",
       "      <td>2.550</td>\n",
       "    </tr>\n",
       "    <tr>\n",
       "      <th>128</th>\n",
       "      <td>ZIPRASIDONA 40 MG CÁPSULA  ELENCO ESTADUAL</td>\n",
       "      <td>1.470</td>\n",
       "    </tr>\n",
       "    <tr>\n",
       "      <th>129</th>\n",
       "      <td>ZIPRASIDONA 80 MG CÁPSULA  ELENCO ESTADUAL</td>\n",
       "      <td>2.940</td>\n",
       "    </tr>\n",
       "    <tr>\n",
       "      <th>130</th>\n",
       "      <td>Total</td>\n",
       "      <td>1.309.810</td>\n",
       "    </tr>\n",
       "  </tbody>\n",
       "</table>\n",
       "</div>"
      ],
      "text/plain": [
       "                                               Produto Qtd Estoque Atual\n",
       "125  TRAVOPROSTA 0,04 MG/ML SOL OFT (FR) 2,5 ML GRU...               512\n",
       "126  TRIPTORRELINA 3,75 MG SUSP INJ (FR-AMP) GRUPO ...               138\n",
       "127                   VIGABATRINA 500 MG COMP GRUPO 2              2.550\n",
       "128        ZIPRASIDONA 40 MG CÁPSULA  ELENCO ESTADUAL              1.470\n",
       "129        ZIPRASIDONA 80 MG CÁPSULA  ELENCO ESTADUAL              2.940\n",
       "130                                              Total         1.309.810"
      ]
     },
     "execution_count": 7,
     "metadata": {},
     "output_type": "execute_result"
    }
   ],
   "source": [
    "df.tail(6)"
   ]
  },
  {
   "cell_type": "markdown",
   "metadata": {},
   "source": [
    "### Removendo total"
   ]
  },
  {
   "cell_type": "code",
   "execution_count": 8,
   "metadata": {},
   "outputs": [],
   "source": [
    "df = df.drop(130)"
   ]
  },
  {
   "cell_type": "code",
   "execution_count": null,
   "metadata": {},
   "outputs": [],
   "source": []
  }
 ],
 "metadata": {
  "kernelspec": {
   "display_name": "Python 3",
   "language": "python",
   "name": "python3"
  },
  "language_info": {
   "codemirror_mode": {
    "name": "ipython",
    "version": 3
   },
   "file_extension": ".py",
   "mimetype": "text/x-python",
   "name": "python",
   "nbconvert_exporter": "python",
   "pygments_lexer": "ipython3",
   "version": "3.6.4"
  }
 },
 "nbformat": 4,
 "nbformat_minor": 2
}
